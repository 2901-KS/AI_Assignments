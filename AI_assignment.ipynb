{
  "cells": [
    {
      "cell_type": "code",
      "execution_count": 1,
      "id": "565b8f5d-c8a1-4348-b145-fdaad96ff96c",
      "metadata": {
        "trusted": true
      },
      "outputs": [
        {
          "name": "stdout",
          "output_type": "stream",
          "text": [
            "Subject-wise Results:\n",
            "Maths: Highest = 95, Lowest = 65, Average = 82.90\n",
            "Science: Highest = 91, Lowest = 75, Average = 83.90\n",
            "English: Highest = 95, Lowest = 70, Average = 84.40\n",
            "IT: Highest = 95, Lowest = 65, Average = 83.60\n",
            "\n",
            "Overall Results:\n",
            "Highest = 95, Lowest = 65, Average = 83.70\n"
          ]
        }
      ],
      "source": [
        "class_marks = {\n",
        "    \"Maths\": [87, 78, 90, 65, 76, 88, 95, 85, 73, 92],\n",
        "    \"Science\": [80, 85, 78, 88, 90, 75, 86, 91, 82, 84],\n",
        "    \"English\": [70, 75, 80, 85, 90, 95, 85, 88, 89, 87],\n",
        "    \"IT\": [95, 90, 85, 80, 75, 70, 65, 95, 92, 89],\n",
        "}\n",
        "\n",
        "overall_marks = []\n",
        "\n",
        "print(\"Subject-wise Results:\")\n",
        "for subject, marks in class_marks.items():\n",
        "    highest = max(marks)\n",
        "    lowest = min(marks)\n",
        "    average = sum(marks) / len(marks)\n",
        "    overall_marks.extend(marks)\n",
        "    print(f\"{subject}: Highest = {highest}, Lowest = {lowest}, Average = {average:.2f}\")\n",
        "\n",
        "overall_highest = max(overall_marks)\n",
        "overall_lowest = min(overall_marks)\n",
        "overall_average = sum(overall_marks) / len(overall_marks)\n",
        "\n",
        "print(\"\\nOverall Results:\")\n",
        "print(f\"Highest = {overall_highest}, Lowest = {overall_lowest}, Average = {overall_average:.2f}\")\n"
      ]
    },
    {
      "cell_type": "code",
      "execution_count": 3,
      "id": "6d943472",
      "metadata": {},
      "outputs": [
        {
          "name": "stdout",
          "output_type": "stream",
          "text": [
            "Basic salary was: 15000.0\n",
            "Gross Salary: 32250.00\n"
          ]
        }
      ],
      "source": [
        "basic_salary = float(input(\"Enter the basic salary: \"))\n",
        "\n",
        "if basic_salary <= 10000:\n",
        "    hra = 0.20 * basic_salary\n",
        "    da = 0.80 * basic_salary\n",
        "elif basic_salary <= 20000:\n",
        "    hra = 0.25 * basic_salary\n",
        "    da = 0.90 * basic_salary\n",
        "else:\n",
        "    hra = 0.30 * basic_salary\n",
        "    da = 0.95 * basic_salary\n",
        "\n",
        "gross_salary = basic_salary + hra + da\n",
        "print(\"Basic salary was:\",basic_salary)\n",
        "print(f\"Gross Salary: {gross_salary:.2f}\")\n"
      ]
    },
    {
      "cell_type": "code",
      "execution_count": 12,
      "id": "ef1a2e3a",
      "metadata": {},
      "outputs": [
        {
          "name": "stdout",
          "output_type": "stream",
          "text": [
            "Password entered: Kin23@\n",
            "Password is valid.\n"
          ]
        }
      ],
      "source": [
        "import re\n",
        "\n",
        "password = input(\"Enter a password: \")\n",
        "print(\"Password entered:\",password)\n",
        "pattern = r\"^(?=.*[a-z])(?=.*[A-Z])(?=.*\\d)(?=.*[$#@]).{6,16}$\"\n",
        "\n",
        "if re.match(pattern, password):\n",
        "    print(\"Password is valid.\")\n",
        "else:\n",
        "    print(\"Password is invalid.\")\n"
      ]
    },
    {
      "cell_type": "code",
      "execution_count": 5,
      "id": "5059d5dd",
      "metadata": {},
      "outputs": [
        {
          "name": "stdout",
          "output_type": "stream",
          "text": [
            "After adding 200 and 300: [10, 20, 30, 40, 50, 60, 70, 80, 200, 300]\n",
            "After removing 10 and 30: [20, 40, 50, 60, 70, 80, 200, 300]\n",
            "Ascending order: [20, 40, 50, 60, 70, 80, 200, 300]\n",
            "Descending order: [300, 200, 80, 70, 60, 50, 40, 20]\n"
          ]
        }
      ],
      "source": [
        "L = [10, 20, 30, 40, 50, 60, 70, 80]\n",
        "\n",
        "# (i)\n",
        "L.extend([200, 300])\n",
        "print(\"After adding 200 and 300:\", L)\n",
        "\n",
        "# (ii)\n",
        "L.remove(10)\n",
        "L.remove(30)\n",
        "print(\"After removing 10 and 30:\", L)\n",
        "\n",
        "# (iii)\n",
        "L.sort()\n",
        "print(\"Ascending order:\", L)\n",
        "\n",
        "# (iv)\n",
        "L.sort(reverse=True)\n",
        "print(\"Descending order:\", L)\n"
      ]
    },
    {
      "cell_type": "code",
      "execution_count": 6,
      "id": "cc241ea8",
      "metadata": {},
      "outputs": [
        {
          "name": "stdout",
          "output_type": "stream",
          "text": [
            "After adding key=6: {1: 'One', 2: 'Two', 3: 'Three', 4: 'Four', 5: 'Five', 6: 'Six'}\n",
            "After removing key=2: {1: 'One', 3: 'Three', 4: 'Four', 5: 'Five', 6: 'Six'}\n",
            "Is key=6 present? True\n",
            "Number of elements: 5\n",
            "All values concatenated: OneThreeFourFiveSix\n"
          ]
        }
      ],
      "source": [
        "D = {1: \"One\", 2: \"Two\", 3: \"Three\", 4: \"Four\", 5: \"Five\"}\n",
        "\n",
        "# (i)\n",
        "D[6] = \"Six\"\n",
        "print(\"After adding key=6:\", D)\n",
        "\n",
        "# (ii)\n",
        "D.pop(2, None)\n",
        "print(\"After removing key=2:\", D)\n",
        "\n",
        "# (iii)\n",
        "print(\"Is key=6 present?\", 6 in D)\n",
        "\n",
        "# (iv)\n",
        "print(\"Number of elements:\", len(D))\n",
        "\n",
        "# (v)\n",
        "print(\"All values concatenated:\", \"\".join(D.values()))\n"
      ]
    },
    {
      "cell_type": "code",
      "execution_count": 7,
      "id": "7ee38352",
      "metadata": {},
      "outputs": [
        {
          "name": "stdout",
          "output_type": "stream",
          "text": [
            "Odd Numbers: 50\n",
            "Even Numbers: 50\n",
            "Prime Numbers: 10\n"
          ]
        }
      ],
      "source": [
        "import random\n",
        "\n",
        "numbers = [random.randint(100, 900) for _ in range(100)]\n",
        "odds = [n for n in numbers if n % 2 != 0]\n",
        "evens = [n for n in numbers if n % 2 == 0]\n",
        "primes = [n for n in numbers if all(n % i != 0 for i in range(2, int(n**0.5) + 1)) and n > 1]\n",
        "\n",
        "print(f\"Odd Numbers: {len(odds)}\")\n",
        "print(f\"Even Numbers: {len(evens)}\")\n",
        "print(f\"Prime Numbers: {len(primes)}\")\n"
      ]
    },
    {
      "cell_type": "code",
      "execution_count": 11,
      "id": "e34ca7b9",
      "metadata": {},
      "outputs": [
        {
          "name": "stdout",
          "output_type": "stream",
          "text": [
            "The principal rate and time are: 1000.0 10.0 2.0\n",
            "Compound Interest: 210.00000000000023\n"
          ]
        }
      ],
      "source": [
        "\n",
        "def compound_interest(principal, rate, time):\n",
        "    return principal * (1 + rate / 100) ** time - principal\n",
        "\n",
        "p = float(input(\"Principal: \"))\n",
        "r = float(input(\"Rate: \"))\n",
        "t = float(input(\"Time: \"))\n",
        "print(\"The principal rate and time are:\",p,r,t)\n",
        "print(\"Compound Interest:\", compound_interest(p, r, t))\n"
      ]
    },
    {
      "cell_type": "code",
      "execution_count": 9,
      "id": "2a8bb6c8",
      "metadata": {},
      "outputs": [
        {
          "name": "stdout",
          "output_type": "stream",
          "text": [
            "Restaurant: Food Palace, Cuisine: Italian\n",
            "Food Palace is now open!\n",
            "User: John Doe, Age: 25, Location: New York\n",
            "Hello, John! Welcome back.\n",
            "User: Jane Smith, Age: 30, Location: Los Angeles\n",
            "Hello, Jane! Welcome back.\n"
          ]
        }
      ],
      "source": [
        "#Part A)\n",
        "class Restaurant:\n",
        "    def __init__(self, name, cuisine_type):\n",
        "        self.name = name\n",
        "        self.cuisine_type = cuisine_type\n",
        "\n",
        "    def describe_restaurant(self):\n",
        "        print(f\"Restaurant: {self.name}, Cuisine: {self.cuisine_type}\")\n",
        "\n",
        "    def open_restaurant(self):\n",
        "        print(f\"{self.name} is now open!\")\n",
        "\n",
        "restaurant = Restaurant(\"Food Palace\", \"Italian\")\n",
        "restaurant.describe_restaurant()\n",
        "restaurant.open_restaurant()\n",
        "#Part B)\n",
        "class User:\n",
        "    def __init__(self, first_name, last_name, age, location):\n",
        "        self.first_name = first_name\n",
        "        self.last_name = last_name\n",
        "        self.age = age\n",
        "        self.location = location\n",
        "\n",
        "    def describe_user(self):\n",
        "        print(f\"User: {self.first_name} {self.last_name}, Age: {self.age}, Location: {self.location}\")\n",
        "\n",
        "    def greet_user(self):\n",
        "        print(f\"Hello, {self.first_name}! Welcome back.\")\n",
        "\n",
        "user1 = User(\"John\", \"Doe\", 25, \"New York\")\n",
        "user2 = User(\"Jane\", \"Smith\", 30, \"Los Angeles\")\n",
        "\n",
        "user1.describe_user()\n",
        "user1.greet_user()\n",
        "user2.describe_user()\n",
        "user2.greet_user()\n"
      ]
    }
  ],
  "metadata": {
    "kernelspec": {
      "display_name": "Python 3",
      "language": "python",
      "name": "python3"
    },
    "language_info": {
      "codemirror_mode": {
        "name": "ipython",
        "version": 3
      },
      "file_extension": ".py",
      "mimetype": "text/x-python",
      "name": "python",
      "nbconvert_exporter": "python",
      "pygments_lexer": "ipython3",
      "version": "3.11.4"
    }
  },
  "nbformat": 4,
  "nbformat_minor": 5
}
