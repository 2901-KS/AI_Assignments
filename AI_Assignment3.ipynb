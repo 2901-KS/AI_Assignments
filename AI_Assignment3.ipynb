{
  "nbformat": 4,
  "nbformat_minor": 0,
  "metadata": {
    "colab": {
      "provenance": []
    },
    "kernelspec": {
      "name": "python3",
      "display_name": "Python 3"
    },
    "language_info": {
      "name": "python"
    }
  },
  "cells": [
    {
      "cell_type": "code",
      "execution_count": 1,
      "metadata": {
        "colab": {
          "base_uri": "https://localhost:8080/"
        },
        "id": "VazXAMTh7_lt",
        "outputId": "711032c7-0a8a-42d8-d1ef-86cb9d914c81"
      },
      "outputs": [
        {
          "output_type": "stream",
          "name": "stdout",
          "text": [
            "Solution found:\n",
            "Step 0: [['A', 'B'], ['C'], []]\n",
            "Step 1: [['A'], ['C', 'B'], []]\n",
            "Step 2: [[], ['C', 'B'], ['A']]\n",
            "Step 3: [[], ['C'], ['A', 'B']]\n"
          ]
        }
      ],
      "source": [
        "from collections import deque\n",
        "\n",
        "def is_goal(state, goal):\n",
        "    return state == goal\n",
        "\n",
        "def get_possible_moves(state):\n",
        "    moves = []\n",
        "    for i in range(len(state)):\n",
        "        if state[i]:\n",
        "            new_state = [list(stack[:]) for stack in state]\n",
        "            block = new_state[i].pop()\n",
        "            for j in range(len(state)):\n",
        "                if i != j:\n",
        "                    temp_state = [list(stack[:]) for stack in new_state]\n",
        "                    temp_state[j].append(block)\n",
        "                    moves.append(temp_state)\n",
        "    return moves\n",
        "\n",
        "def dfs(initial_state, goal_state):\n",
        "    stack = [(initial_state, [])]\n",
        "    visited = set()\n",
        "    visited.add(tuple(tuple(stack) for stack in initial_state))\n",
        "\n",
        "    while stack:\n",
        "        state, path = stack.pop()\n",
        "        if is_goal(state, goal_state):\n",
        "            return path + [state]\n",
        "\n",
        "        for move in reversed(get_possible_moves(state)):\n",
        "            state_tuple = tuple(tuple(stack) for stack in move)\n",
        "            if state_tuple not in visited:\n",
        "                visited.add(state_tuple)\n",
        "                stack.append((move, path + [state]))\n",
        "\n",
        "    return None\n",
        "\n",
        "initial_state = [['A', 'B'], ['C'], []]\n",
        "goal_state = [[], ['C'], ['A', 'B']]\n",
        "\n",
        "solution = dfs(initial_state, goal_state)\n",
        "\n",
        "if solution:\n",
        "    print(\"Solution found:\")\n",
        "    for step, state in enumerate(solution):\n",
        "        print(f\"Step {step}: {state}\")\n",
        "else:\n",
        "    print(\"No solution found.\")\n"
      ]
    },
    {
      "cell_type": "code",
      "source": [
        "from collections import deque\n",
        "\n",
        "def is_goal(state, goal):\n",
        "    return state == goal\n",
        "\n",
        "def get_possible_moves(state):\n",
        "    moves = []\n",
        "    for i in range(len(state)):\n",
        "        if state[i]:\n",
        "            new_state = [list(stack[:]) for stack in state]\n",
        "            block = new_state[i].pop()\n",
        "            for j in range(len(state)):\n",
        "                if i != j:\n",
        "                    temp_state = [list(stack[:]) for stack in new_state]\n",
        "                    temp_state[j].append(block)\n",
        "                    moves.append(temp_state)\n",
        "    return moves\n",
        "\n",
        "def dfs(initial_state, goal_state):\n",
        "    stack = [(initial_state, [])]\n",
        "    visited = set()\n",
        "    visited.add(tuple(tuple(stack) for stack in initial_state))\n",
        "\n",
        "    while stack:\n",
        "        state, path = stack.pop()\n",
        "        if is_goal(state, goal_state):\n",
        "            return path + [state]\n",
        "\n",
        "        for move in reversed(get_possible_moves(state)):\n",
        "            state_tuple = tuple(tuple(stack) for stack in move)\n",
        "            if state_tuple not in visited:\n",
        "                visited.add(state_tuple)\n",
        "                stack.append((move, path + [state]))\n",
        "\n",
        "    return None\n",
        "\n",
        "initial_state = [['A', 'B'], ['C'], []]\n",
        "goal_state = [[], ['C'], ['A', 'B']]\n",
        "\n",
        "solution = dfs(initial_state, goal_state)\n",
        "\n",
        "if solution:\n",
        "    print(\"Solution found:\")\n",
        "    for step, state in enumerate(solution):\n",
        "        print(f\"Step {step}: {state}\")\n",
        "else:\n",
        "    print(\"No solution found.\")\n"
      ],
      "metadata": {
        "colab": {
          "base_uri": "https://localhost:8080/"
        },
        "id": "lpCS5ELB9s0L",
        "outputId": "204d0782-2aa0-45e8-db31-e64d6aca5b80"
      },
      "execution_count": 2,
      "outputs": [
        {
          "output_type": "stream",
          "name": "stdout",
          "text": [
            "Solution found:\n",
            "Step 0: [['A', 'B'], ['C'], []]\n",
            "Step 1: [['A'], ['C', 'B'], []]\n",
            "Step 2: [[], ['C', 'B'], ['A']]\n",
            "Step 3: [[], ['C'], ['A', 'B']]\n"
          ]
        }
      ]
    },
    {
      "cell_type": "code",
      "source": [
        "from collections import deque\n",
        "\n",
        "def is_goal(state, goal):\n",
        "    return state == goal\n",
        "\n",
        "def get_possible_moves(state):\n",
        "    moves = []\n",
        "    for i in range(len(state)):\n",
        "        if state[i]:\n",
        "            new_state = [list(stack[:]) for stack in state]\n",
        "            block = new_state[i].pop()\n",
        "            for j in range(len(state)):\n",
        "                if i != j:\n",
        "                    temp_state = [list(stack[:]) for stack in new_state]\n",
        "                    temp_state[j].append(block)\n",
        "                    moves.append(temp_state)\n",
        "    return moves\n",
        "\n",
        "def dfs(initial_state, goal_state):\n",
        "    stack = [(initial_state, [])]\n",
        "    visited = set()\n",
        "    visited.add(tuple(tuple(stack) for stack in initial_state))\n",
        "\n",
        "    while stack:\n",
        "        state, path = stack.pop()\n",
        "        if is_goal(state, goal_state):\n",
        "            return path + [state]\n",
        "\n",
        "        for move in reversed(get_possible_moves(state)):\n",
        "            state_tuple = tuple(tuple(stack) for stack in move)\n",
        "            if state_tuple not in visited:\n",
        "                visited.add(state_tuple)\n",
        "                stack.append((move, path + [state]))\n",
        "\n",
        "    return None\n",
        "\n",
        "initial_state = [['A', 'B'], ['C'], []]\n",
        "goal_state = [[], ['C'], ['A', 'B']]\n",
        "\n",
        "solution = dfs(initial_state, goal_state)\n",
        "\n",
        "if solution:\n",
        "    print(\"Solution found:\")\n",
        "    for step, state in enumerate(solution):\n",
        "        print(f\"Step {step}: {state}\")\n",
        "else:\n",
        "    print(\"No solution found.\")\n"
      ],
      "metadata": {
        "colab": {
          "base_uri": "https://localhost:8080/"
        },
        "id": "IV7xkPGY-b5C",
        "outputId": "e3626118-041d-499d-c29d-c2b6f0b4c51f"
      },
      "execution_count": 3,
      "outputs": [
        {
          "output_type": "stream",
          "name": "stdout",
          "text": [
            "Solution found:\n",
            "Step 0: [['A', 'B'], ['C'], []]\n",
            "Step 1: [['A'], ['C', 'B'], []]\n",
            "Step 2: [[], ['C', 'B'], ['A']]\n",
            "Step 3: [[], ['C'], ['A', 'B']]\n"
          ]
        }
      ]
    },
    {
      "cell_type": "code",
      "source": [
        "def dls(state, goal, depth):\n",
        "    if state == goal:\n",
        "        return [state]  # Return the path if goal is found\n",
        "    if depth == 0:\n",
        "        return None  # Stop if depth limit is reached\n",
        "\n",
        "    for move in get_possible_moves(state):\n",
        "        result = dls(move, goal, depth - 1)\n",
        "        if result:\n",
        "            return [state] + result  # Append the state to the path\n",
        "\n",
        "    return None  # No solution found within depth limit\n",
        "\n",
        "def iddfs(start, goal, max_depth):\n",
        "    for depth in range(max_depth + 1):\n",
        "        print(f\"Trying depth: {depth}\")\n",
        "        result = dls(start, goal, depth)\n",
        "        if result:\n",
        "            print(\"Goal found at depth:\", depth)\n",
        "            return result\n",
        "    print(\"Goal not found within depth limit\")\n",
        "    return None\n",
        "\n",
        "# Define your initial and goal states\n",
        "initial_state = [['A', 'B'], ['C'], []]\n",
        "goal_state = [[], ['C'], ['A', 'B']]\n",
        "\n",
        "# Run IDDFS\n",
        "solution = iddfs(initial_state, goal_state, max_depth=5)\n",
        "\n",
        "if solution:\n",
        "    print(\"Solution Path:\")\n",
        "    for step, state in enumerate(solution):\n",
        "        print(f\"Step {step}: {state}\")\n",
        "else:\n",
        "    print(\"No solution found.\")\n"
      ],
      "metadata": {
        "colab": {
          "base_uri": "https://localhost:8080/"
        },
        "id": "BP8w9kpW_fMS",
        "outputId": "e62f77e7-9d05-4be9-c2d5-035f65d73dcc"
      },
      "execution_count": 6,
      "outputs": [
        {
          "output_type": "stream",
          "name": "stdout",
          "text": [
            "Trying depth: 0\n",
            "Trying depth: 1\n",
            "Trying depth: 2\n",
            "Trying depth: 3\n",
            "Goal found at depth: 3\n",
            "Solution Path:\n",
            "Step 0: [['A', 'B'], ['C'], []]\n",
            "Step 1: [['A'], ['C', 'B'], []]\n",
            "Step 2: [[], ['C', 'B'], ['A']]\n",
            "Step 3: [[], ['C'], ['A', 'B']]\n"
          ]
        }
      ]
    },
    {
      "cell_type": "code",
      "source": [
        "import heapq\n",
        "\n",
        "graph = {\n",
        "    'S': [('A', 1), ('B', 5), ('C', 15)],\n",
        "    'A': [('G', 10)],\n",
        "    'B': [('G', 5)],\n",
        "    'C': [('G', 5)]\n",
        "}\n",
        "\n",
        "def uniform_cost_search(graph, start, goal):\n",
        "    pq = []\n",
        "    heapq.heappush(pq, (0, start, []))  # (cost, node, path)\n",
        "\n",
        "    visited = set()\n",
        "\n",
        "    while pq:\n",
        "        cost, node, path = heapq.heappop(pq)\n",
        "\n",
        "        if node in visited:\n",
        "            continue\n",
        "\n",
        "        visited.add(node)\n",
        "        path = path + [node]\n",
        "\n",
        "        if node == goal:\n",
        "            print(\"Path:\", path, \"Cost:\", cost)\n",
        "            return path, cost\n",
        "\n",
        "        for neighbor, edge_cost in graph.get(node, []):\n",
        "            if neighbor not in visited:\n",
        "                heapq.heappush(pq, (cost + edge_cost, neighbor, path))\n",
        "\n",
        "    print(\"Goal Not Found\")\n",
        "    return None\n",
        "\n",
        "uniform_cost_search(graph, 'S', 'G')\n"
      ],
      "metadata": {
        "colab": {
          "base_uri": "https://localhost:8080/"
        },
        "id": "gay4mc_PKFvg",
        "outputId": "ee70f83e-2885-46d6-cdee-dad10ea5f06d"
      },
      "execution_count": 7,
      "outputs": [
        {
          "output_type": "stream",
          "name": "stdout",
          "text": [
            "Path: ['S', 'B', 'G'] Cost: 10\n"
          ]
        },
        {
          "output_type": "execute_result",
          "data": {
            "text/plain": [
              "(['S', 'B', 'G'], 10)"
            ]
          },
          "metadata": {},
          "execution_count": 7
        }
      ]
    }
  ]
}